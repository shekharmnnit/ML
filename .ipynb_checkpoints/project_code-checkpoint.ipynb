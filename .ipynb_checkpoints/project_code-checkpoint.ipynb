{
 "cells": [
  {
   "cell_type": "code",
   "execution_count": 1,
   "id": "initial_id",
   "metadata": {
    "ExecuteTime": {
     "end_time": "2023-11-06T21:05:27.773083200Z",
     "start_time": "2023-11-06T21:05:23.229110200Z"
    },
    "collapsed": true
   },
   "outputs": [
    {
     "name": "stdout",
     "output_type": "stream",
     "text": [
      "----Training Data set----------\n",
      "   CustomerID   Age  Gender  Tenure  Usage Frequency  Support Calls  Payment Delay Subscription Type Contract Length  Total Spend  Last Interaction  Churn\n",
      "0         2.0  30.0  Female    39.0             14.0            5.0           18.0          Standard          Annual        932.0              17.0    1.0\n",
      "1         3.0  65.0  Female    49.0              1.0           10.0            8.0             Basic         Monthly        557.0               6.0    1.0\n",
      "2         4.0  55.0  Female    14.0              4.0            6.0           18.0             Basic       Quarterly        185.0               3.0    1.0\n",
      "3         5.0  58.0    Male    38.0             21.0            7.0            7.0          Standard         Monthly        396.0              29.0    1.0\n",
      "4         6.0  23.0    Male    32.0             20.0            5.0            8.0             Basic         Monthly        617.0              20.0    1.0\n",
      "Number of observation in training dataset: 440833\n",
      "Null value count\n",
      "CustomerID           1\n",
      "Age                  1\n",
      "Gender               1\n",
      "Tenure               1\n",
      "Usage Frequency      1\n",
      "Support Calls        1\n",
      "Payment Delay        1\n",
      "Subscription Type    1\n",
      "Contract Length      1\n",
      "Total Spend          1\n",
      "Last Interaction     1\n",
      "Churn                1\n",
      "dtype: int64\n",
      "Training: Total number of rows with null value = 12\n",
      "----Testing Data set----------\n",
      "   CustomerID  Age  Gender  Tenure  Usage Frequency  Support Calls  Payment Delay Subscription Type Contract Length  Total Spend  Last Interaction  Churn\n",
      "0           1   22  Female      25               14              4             27             Basic         Monthly          598                 9      1\n",
      "1           2   41  Female      28               28              7             13          Standard         Monthly          584                20      0\n",
      "2           3   47    Male      27               10              2             29           Premium          Annual          757                21      0\n",
      "3           4   35    Male       9               12              5             17           Premium       Quarterly          232                18      0\n",
      "4           5   53  Female      58               24              9              2          Standard          Annual          533                18      0\n",
      "Number of observation in test dataset: 64374\n",
      "Null value count\n",
      "CustomerID           0\n",
      "Age                  0\n",
      "Gender               0\n",
      "Tenure               0\n",
      "Usage Frequency      0\n",
      "Support Calls        0\n",
      "Payment Delay        0\n",
      "Subscription Type    0\n",
      "Contract Length      0\n",
      "Total Spend          0\n",
      "Last Interaction     0\n",
      "Churn                0\n",
      "dtype: int64\n",
      "Testing: Total number of rows with null value = 0\n",
      "-------------------Train Data cleaning-------------------\n",
      "        CustomerID  Age Gender  Tenure  Usage Frequency  Support Calls  Payment Delay Subscription Type Contract Length  Total Spend  Last Interaction  Churn\n",
      "199295         NaN  NaN    NaN     NaN              NaN            NaN            NaN               NaN             NaN          NaN               NaN    NaN\n",
      "199295 row has null value for all the columns, so removing 199295\n",
      "CustomerID           0\n",
      "Age                  0\n",
      "Gender               0\n",
      "Tenure               0\n",
      "Usage Frequency      0\n",
      "Support Calls        0\n",
      "Payment Delay        0\n",
      "Subscription Type    0\n",
      "Contract Length      0\n",
      "Total Spend          0\n",
      "Last Interaction     0\n",
      "Churn                0\n",
      "dtype: int64\n"
     ]
    }
   ],
   "source": [
    "import pandas as pd\n",
    "import matplotlib.pyplot as plt\n",
    "import numpy as np\n",
    "import seaborn as sns\n",
    "\n",
    "trainDatasetfilePath = 'https://raw.githubusercontent.com/shekharmnnit/ML/main/Customer%20Churn%20Dataset/customer_churn_dataset-training-master.csv'\n",
    "testDatasetPath= 'https://raw.githubusercontent.com/shekharmnnit/ML/main/Customer%20Churn%20Dataset/customer_churn_dataset-testing-master.csv'\n",
    "training_df = pd.read_csv(trainDatasetfilePath)\n",
    "testing_df = pd.read_csv(testDatasetPath)\n",
    "print(\"----Training Data set----------\")\n",
    "print(training_df.head(5).to_string())\n",
    "print(f\"Number of observation in training dataset: {training_df.shape[0]}\")\n",
    "print(\"Null value count\")\n",
    "print(training_df.isna().sum())\n",
    "print(f\"Training: Total number of rows with null value = {training_df.isna().sum().sum()}\")\n",
    "\n",
    "print(\"----Testing Data set----------\")\n",
    "print(testing_df.head(5).to_string())\n",
    "print(f\"Number of observation in test dataset: {testing_df.shape[0]}\")\n",
    "print(\"Null value count\")\n",
    "print(testing_df.isna().sum())\n",
    "print(f\"Testing: Total number of rows with null value = {testing_df.isna().sum().sum()}\")\n",
    "\n",
    "print('-------------------Train Data cleaning-------------------')\n",
    "print(training_df[training_df['Age'].isna()].to_string()) # row detail with na value\n",
    "print(\"199295 row has null value for all the columns, so removing 199295\")\n",
    "training_df = training_df.drop(training_df[training_df['Age'].isna()].index)\n",
    "print(training_df.isna().sum())"
   ]
  },
  {
   "cell_type": "code",
   "execution_count": 2,
   "id": "3f37c0d6092d1a2c",
   "metadata": {},
   "outputs": [
    {
     "data": {
      "text/plain": [
       "0"
      ]
     },
     "execution_count": 2,
     "metadata": {},
     "output_type": "execute_result"
    }
   ],
   "source": [
    "training_df.duplicated().sum()"
   ]
  },
  {
   "cell_type": "code",
   "execution_count": null,
   "id": "79c96ad7",
   "metadata": {},
   "outputs": [],
   "source": []
  }
 ],
 "metadata": {
  "kernelspec": {
   "display_name": "Python 3 (ipykernel)",
   "language": "python",
   "name": "python3"
  },
  "language_info": {
   "codemirror_mode": {
    "name": "ipython",
    "version": 3
   },
   "file_extension": ".py",
   "mimetype": "text/x-python",
   "name": "python",
   "nbconvert_exporter": "python",
   "pygments_lexer": "ipython3",
   "version": "3.11.4"
  }
 },
 "nbformat": 4,
 "nbformat_minor": 5
}
